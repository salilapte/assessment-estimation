{
 "cells": [
  {
   "cell_type": "markdown",
   "id": "1dd7c1ae",
   "metadata": {},
   "source": [
    "### Model development based on demographic features and xgboost architecture\n",
    "\n",
    "*Date:* 2025-06-19 <br> \n",
    "*Author:* salil apte  <br> \n",
    "*Version:* 1.0  <br> \n",
    "*Filename:* `03-demo-xgboost-model.ipynb`\n",
    "\n",
    "This notebook contains the training and evaluation of a [xgboost](https://xgboost.readthedocs.io) model using only the additional five (likely demographic) features. The process is repeated 50 times with different training/validation splits, which are designed to not have any overlap of users."
   ]
  },
  {
   "cell_type": "code",
   "execution_count": null,
   "id": "3c0bf1b6",
   "metadata": {},
   "outputs": [],
   "source": [
    "import pandas as pd\n",
    "import numpy as np\n",
    "from sklearn.model_selection import train_test_split\n",
    "from sklearn.metrics import mean_squared_error, mean_absolute_percentage_error\n",
    "import xgboost as xgb\n",
    "import matplotlib.pyplot as plt"
   ]
  },
  {
   "cell_type": "code",
   "execution_count": null,
   "id": "c58ac696",
   "metadata": {},
   "outputs": [],
   "source": [
    "# Load the training data\n",
    "df = pd.read_parquet(r\"E:\\repos\\vital-sign-estimation\\data\\processed\\demographics.parquet\")\n",
    "labels = pd.read_csv(r\"E:\\repos\\vital-sign-estimation\\data\\raw\\train_labels.csv\")\n",
    "print(df.shape)\n",
    "df.head()"
   ]
  },
  {
   "cell_type": "code",
   "execution_count": null,
   "id": "450b9342",
   "metadata": {},
   "outputs": [],
   "source": [
    "# Step 1: Prepare features, target, and group labels\n",
    "feature_names = [\"features_0\", \"features_1\", \"features_2\", \"features_3\", \"features_4\"]\n",
    "X = df[feature_names].to_numpy()\n",
    "y = labels.to_numpy()\n",
    "unique_ids = df[\"id\"].unique()"
   ]
  },
  {
   "cell_type": "code",
   "execution_count": null,
   "id": "6801e426",
   "metadata": {},
   "outputs": [],
   "source": [
    "# Set the training parameters\n",
    "n_bootstraps = 50\n",
    "test_size = 0.2\n",
    "seed = 1"
   ]
  },
  {
   "cell_type": "code",
   "execution_count": null,
   "id": "eb4ff77e",
   "metadata": {},
   "outputs": [],
   "source": [
    "# Prepare arrays to store results\n",
    "mse_list = []\n",
    "mape_list = []\n",
    "\n",
    "for i in range(n_bootstraps):\n",
    "\n",
    "    # Split the ids for training and testing    \n",
    "    train_ids, test_ids = train_test_split(unique_ids, test_size=test_size, random_state=i)\n",
    "\n",
    "    train_mask = df[\"id\"].isin(train_ids)\n",
    "    test_mask = df[\"id\"].isin(test_ids)\n",
    "\n",
    "    # Split the train and test dataset\n",
    "    X_train, y_train = X[train_mask], y[train_mask]\n",
    "    X_val, y_val = X[test_mask], y[test_mask]\n",
    "\n",
    "    # Create DMatrix objects\n",
    "    dtrain = xgb.DMatrix(data=X_train, label=y_train)\n",
    "    dval = xgb.DMatrix(data=X_val, label=y_val)\n",
    "\n",
    "    # Set training parameters\n",
    "    params = {\n",
    "        \"objective\": \"reg:squarederror\",\n",
    "        \"eval_metric\": \"rmse\",\n",
    "        \"max_depth\": 3,\n",
    "        \"eta\": 0.05,\n",
    "        \"subsample\": 0.8,\n",
    "        \"colsample_bytree\": 0.8,\n",
    "        \"reg_alpha\": 1.0,\n",
    "        \"reg_lambda\": 1.0,\n",
    "        \"seed\": seed\n",
    "    }\n",
    "\n",
    "    # Train model with early stopping\n",
    "    evals = [(dtrain, \"train\"), (dval, \"val\")]\n",
    "    model = xgb.train(\n",
    "        params=params,\n",
    "        dtrain=dtrain,\n",
    "        num_boost_round=300,\n",
    "        evals=evals,\n",
    "        early_stopping_rounds=20,\n",
    "        verbose_eval=False\n",
    "    )\n",
    "\n",
    "    # Predict and evaluate\n",
    "    y_pred = model.predict(dval)\n",
    "    mse = mean_squared_error(y_val, y_pred)\n",
    "    mape = mean_absolute_percentage_error(y_val, y_pred)\n",
    "\n",
    "    print(f\"XGBoost MSE: {mse:.2f}\")\n",
    "    print(f\"XGBoost MAPE: {mape:.2f}\")\n",
    "\n",
    "    mse_list.append(mse)\n",
    "    mape_list.append(mape)"
   ]
  },
  {
   "cell_type": "code",
   "execution_count": null,
   "id": "4a595e2a",
   "metadata": {},
   "outputs": [],
   "source": [
    "# Plot boxplots for MSE and MAPE across 50 repetitions\n",
    "plt.figure(figsize=(10, 4))\n",
    "\n",
    "plt.subplot(1, 2, 1)\n",
    "plt.boxplot(mse_list)\n",
    "plt.title(\"MSE across 50 bootstraps\")\n",
    "plt.ylabel(\"Mean Squared Error\")\n",
    "\n",
    "plt.subplot(1, 2, 2)\n",
    "plt.boxplot(mape_list)\n",
    "plt.title(\"MAPE across 50 bootstraps\")\n",
    "plt.ylabel(\"Mean absolute percentage error\")\n",
    "\n",
    "plt.tight_layout()\n",
    "plt.show()"
   ]
  }
 ],
 "metadata": {
  "kernelspec": {
   "display_name": ".venv",
   "language": "python",
   "name": "python3"
  },
  "language_info": {
   "codemirror_mode": {
    "name": "ipython",
    "version": 3
   },
   "file_extension": ".py",
   "mimetype": "text/x-python",
   "name": "python",
   "nbconvert_exporter": "python",
   "pygments_lexer": "ipython3",
   "version": "3.10.16"
  }
 },
 "nbformat": 4,
 "nbformat_minor": 5
}
