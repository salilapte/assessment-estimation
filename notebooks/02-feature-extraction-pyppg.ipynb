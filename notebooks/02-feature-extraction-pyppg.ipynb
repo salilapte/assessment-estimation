{
 "cells": [
  {
   "cell_type": "markdown",
   "id": "db0f5f39",
   "metadata": {},
   "source": [
    "### Feature extraction with Pyppg\n",
    "\n",
    "*Date:* 2025-06-19 <br> \n",
    "*Author:* salil apte  <br> \n",
    "*Version:* 1.0  <br> \n",
    "*Filename:* `02-feature-extraction-pyppg.ipynb`\n",
    "\n",
    "This notebook contains the initial steps in exploring the feature extraction using the [pyPPG](https://pyppg.readthedocs.io) package. It includes extraction of fiducial points, their visualization and extraction of biomarkers."
   ]
  },
  {
   "cell_type": "code",
   "execution_count": null,
   "id": "3c0bf1b6",
   "metadata": {},
   "outputs": [],
   "source": [
    "import pandas as pd\n",
    "import numpy as np\n",
    "from pyPPG import PPG, Fiducials, Biomarkers\n",
    "import pyPPG.preproc as PP\n",
    "import pyPPG.fiducials as FP\n",
    "import pyPPG.biomarkers as BM\n",
    "import pyPPG.ppg_sqi as SQI\n",
    "from pyPPG.datahandling import plot_fiducials, save_data\n",
    "import pandas as pd"
   ]
  },
  {
   "cell_type": "code",
   "execution_count": null,
   "id": "c58ac696",
   "metadata": {},
   "outputs": [],
   "source": [
    "# Load the training data\n",
    "df = pd.read_csv(r\"E:\\repos\\vital-sign-estimation\\data\\raw\\train.csv\")"
   ]
  },
  {
   "cell_type": "code",
   "execution_count": null,
   "id": "66302435",
   "metadata": {},
   "outputs": [],
   "source": [
    "ppg_signal = df.iloc[0, :3000].values\n",
    "\n",
    "signal = PP.Preprocess(fL=0.5, fH=12, order=4, sm_wins={'ppg': 50, 'vpg': 10, 'apg': 10, 'jpg': 10})\n",
    "signal.ppg, signal.vpg, signal.apg, signal.jpg = signal.get_signals(s=signal_200hz)"
   ]
  },
  {
   "cell_type": "code",
   "execution_count": null,
   "id": "64769e2d",
   "metadata": {},
   "outputs": [],
   "source": [
    "from dotmap import DotMap\n",
    "def load_data_array(input_sig: np.ndarray, fs = np.nan, start_sig = 0, end_sig = -1, use_tk=True, print_flag=True):\n",
    "    \"\"\"\n",
    "    Load raw PPG data.\n",
    "\n",
    "    :param input_sig: array containing the PPG signal\n",
    "    :type data_path: ndarray\n",
    "    :param start_sig: the first sample of the signal to be analysed\n",
    "    :type start_sig: int\n",
    "    :param fs: the sampling frequency of the PPG in Hz\n",
    "    :type fs: int\n",
    "    :param end_sig: the last sample of the signal to be analysed\n",
    "    :type end_sig: int\n",
    "    :param use_tk: a bool for using tkinter interface\n",
    "    :type use_tk: bool\n",
    "    :param print_flag: a bool for print message\n",
    "    :type print_flag: bool\n",
    "\n",
    "    :return: s: dictionary of the PPG signal:\n",
    "\n",
    "        * s.start_sig: the first sample of the signal to be analysed\n",
    "        * s.end_sig: the last sample of the signal to be analysed\n",
    "        * s.v: a vector of PPG values\n",
    "        * s.fs: the sampling frequency of the PPG in Hz\n",
    "        * s.name: name of the record\n",
    "        * s.v: 1-d array, a vector of PPG values\n",
    "        * s.fs: the sampling frequency of the PPG in Hz\n",
    "        * s.ppg: 1-d array, a vector of the filtered PPG values\n",
    "        * s.vpg: 1-d array, a vector of the filtered PPG' values\n",
    "        * s.apg: 1-d array, a vector of the filtered PPG\" values\n",
    "        * s.jpg: 1-d array, a vector of the filtered PPG'\" values\n",
    "        * s.filtering: a bool for filtering\n",
    "        * s.correct: a bool for correcting fiducial points\n",
    "    \"\"\"\n",
    "\n",
    "    sig = input_sig\n",
    "\n",
    "    if fs<=0:\n",
    "        fs = 125\n",
    "        if print_flag: print('The default sampling frequency is 125 Hz for .txt.')\n",
    "\n",
    "    s = DotMap()\n",
    "\n",
    "    s.start_sig = start_sig\n",
    "    if start_sig<end_sig:\n",
    "        s.end_sig = end_sig\n",
    "    else:\n",
    "        s.end_sig = len(sig)\n",
    "\n",
    "    try:\n",
    "        s.v=sig[s.start_sig:s.end_sig]\n",
    "    except:\n",
    "        raise('There is no valid PPG signal!')\n",
    "\n",
    "    s.fs=fs\n",
    "    s.name=\"default\"\n",
    "\n",
    "    return s"
   ]
  },
  {
   "cell_type": "code",
   "execution_count": null,
   "id": "c0bb7335",
   "metadata": {},
   "outputs": [],
   "source": [
    "ppg_signal = df.iloc[0, :3000].values\n",
    "s = load_data(input_sig= ppg_signal, fs = 100, start_sig = 500, end_sig = 2500, use_tk=True, print_flag=True)"
   ]
  },
  {
   "cell_type": "code",
   "execution_count": null,
   "id": "a12dcee6",
   "metadata": {},
   "outputs": [],
   "source": [
    "s.filtering = True # whether or not to filter the PPG signal\n",
    "s.fL=0.5000001 # Lower cutoff frequency (Hz)\n",
    "s.fH=12 # Upper cutoff frequency (Hz)\n",
    "s.order=4 # Filter order\n",
    "s.sm_wins={'ppg':50,'vpg':10,'apg':10,'jpg':10} # smoothing windows in millisecond for the PPG, PPG', PPG\", and PPG'\""
   ]
  },
  {
   "cell_type": "code",
   "execution_count": null,
   "id": "247c205e",
   "metadata": {},
   "outputs": [],
   "source": [
    "prep = PP.Preprocess(fL=s.fL, fH=s.fH, order=s.order, sm_wins=s.sm_wins)\n",
    "s.ppg, s.vpg, s.apg, s.jpg = prep.get_signals(s=s)"
   ]
  },
  {
   "cell_type": "code",
   "execution_count": null,
   "id": "e9aad55c",
   "metadata": {},
   "outputs": [],
   "source": [
    "import matplotlib.pyplot as plt\n",
    "# setup figure\n",
    "fig, (ax1,ax2,ax3,ax4) = plt.subplots(4, 1, sharex = True, sharey = False)\n",
    "\n",
    "# create time vector\n",
    "t = np.arange(0, len(s.ppg))/s.fs\n",
    "\n",
    "# plot filtered PPG signal\n",
    "ax1.plot(t, s.ppg)\n",
    "ax1.set(xlabel = '', ylabel = 'PPG')\n",
    "\n",
    "# plot first derivative\n",
    "ax2.plot(t, s.vpg)\n",
    "ax2.set(xlabel = '', ylabel = 'PPG\\'')\n",
    "\n",
    "# plot second derivative\n",
    "ax3.plot(t, s.apg)\n",
    "ax3.set(xlabel = '', ylabel = 'PPG\\'\\'')\n",
    "\n",
    "# plot third derivative\n",
    "ax4.plot(t, s.jpg)\n",
    "ax4.set(xlabel = 'Time (s)', ylabel = 'PPG\\'\\'\\'')\n",
    "\n",
    "# show plot\n",
    "plt.show()"
   ]
  },
  {
   "cell_type": "code",
   "execution_count": null,
   "id": "3a3c70b8",
   "metadata": {},
   "outputs": [],
   "source": [
    "# Initialise the correction for fiducial points\n",
    "corr_on = ['on', 'dn', 'dp', 'v', 'w', 'f']\n",
    "correction=pd.DataFrame()\n",
    "correction.loc[0, corr_on] = True\n",
    "s.correction=correction\n",
    "\n",
    "# Create a PPG class\n",
    "s = PPG(s)"
   ]
  },
  {
   "cell_type": "code",
   "execution_count": null,
   "id": "09eae0a5",
   "metadata": {},
   "outputs": [],
   "source": [
    "fpex = FP.FpCollection(s=s)\n",
    "fiducials = fpex.get_fiducials(s=s)\n",
    "fp = Fiducials(fp=fiducials)"
   ]
  },
  {
   "cell_type": "code",
   "execution_count": null,
   "id": "02892a90",
   "metadata": {},
   "outputs": [],
   "source": [
    "from pyPPG import PPG, Fiducials, Biomarkers\n",
    "from pyPPG.datahandling import load_data, plot_fiducials, save_data\n",
    "import pyPPG.preproc as PP\n",
    "import pyPPG.fiducials as FP\n",
    "import pyPPG.biomarkers as BM\n",
    "import pyPPG.ppg_sqi as SQI\n",
    "# Create a fiducials class\n",
    "fp = Fiducials(fp=fiducials)\n",
    "\n",
    "savingfolder = r\"E:\\repos\\vital-sign-estimation\\reports\\figures\"\n",
    "\n",
    "# Plot fiducial points\n",
    "plot_fiducials(s, fp, savingfolder, legend_fontsize=12)"
   ]
  },
  {
   "cell_type": "code",
   "execution_count": null,
   "id": "c967ebaa",
   "metadata": {},
   "outputs": [],
   "source": [
    "fpex = FP.FpCollection(s=s)\n",
    "fiducials = fpex.get_fiducials(s=s)\n",
    "fp = Fiducials(fp=fiducials)\n",
    "# Init the biomarkers package\n",
    "bmex = BM.BmCollection(s=s, fp=fp)\n",
    "\n",
    "# Extract biomarkers\n",
    "bm_defs, bm_vals, bm_stats = bmex.get_biomarkers()\n",
    "tmp_keys=bm_stats.keys()\n",
    "print('Statistics of the biomarkers:')\n",
    "for i in tmp_keys: print(i,'\\n',bm_stats[i])\n",
    "\n",
    "# Create a biomarkers class\n",
    "bm = Biomarkers(bm_defs=bm_defs, bm_vals=bm_vals, bm_stats=bm_stats)"
   ]
  },
  {
   "cell_type": "code",
   "execution_count": null,
   "id": "746d2caf",
   "metadata": {},
   "outputs": [],
   "source": [
    "x = bm.get_bm()"
   ]
  },
  {
   "cell_type": "code",
   "execution_count": null,
   "id": "5799716e",
   "metadata": {},
   "outputs": [],
   "source": [
    "print(bm_stats)"
   ]
  },
  {
   "cell_type": "code",
   "execution_count": null,
   "id": "c9c4d761",
   "metadata": {},
   "outputs": [],
   "source": [
    "# Get PPG SQI\n",
    "ppgSQI = round(np.mean(SQI.get_ppgSQI(ppg=s.ppg, fs=s.fs, annotation=fp.sp)) * 100, 2)\n",
    "print('Mean PPG SQI: ', ppgSQI, '%')"
   ]
  }
 ],
 "metadata": {
  "kernelspec": {
   "display_name": ".venv",
   "language": "python",
   "name": "python3"
  },
  "language_info": {
   "codemirror_mode": {
    "name": "ipython",
    "version": 3
   },
   "file_extension": ".py",
   "mimetype": "text/x-python",
   "name": "python",
   "nbconvert_exporter": "python",
   "pygments_lexer": "ipython3",
   "version": "3.10.16"
  }
 },
 "nbformat": 4,
 "nbformat_minor": 5
}
